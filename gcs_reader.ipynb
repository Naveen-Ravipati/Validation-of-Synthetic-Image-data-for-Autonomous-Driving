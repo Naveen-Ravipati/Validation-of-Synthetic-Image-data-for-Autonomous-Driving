{
 "cells": [
  {
   "cell_type": "code",
   "execution_count": 16,
   "metadata": {},
   "outputs": [],
   "source": [
    "from google.cloud import storage\n",
    "import os\n",
    "import tensorflow as tf\n",
    "import math\n",
    "import numpy as np\n",
    "import itertools\n",
    "\n",
    "tf.enable_eager_execution()"
   ]
  },
  {
   "cell_type": "markdown",
   "metadata": {},
   "source": [
    "## Reading tfrecords from google cloud storage "
   ]
  },
  {
   "cell_type": "code",
   "execution_count": null,
   "metadata": {},
   "outputs": [],
   "source": [
    "def list_blobs_with_prefix(bucket_name, prefix, delimiter=None):\n",
    "    \n",
    "    storage_client = storage.Client()\n",
    "    bucket = storage_client.get_bucket(bucket_name)\n",
    "\n",
    "    blobs = bucket.list_blobs(prefix=prefix, delimiter=delimiter)\n",
    "    file_list = []\n",
    "    for blob in blobs:\n",
    "        file_list.append('gs://waymo_validation/'+blob.name)\n",
    "\n",
    "    return file_list\n"
   ]
  },
  {
   "cell_type": "code",
   "execution_count": 10,
   "metadata": {},
   "outputs": [],
   "source": [
    "def _parse_function(proto):\n",
    "    # define your tfrecord again. Remember that you saved your image as a string.\n",
    "    image_feature_description={\n",
    "      'image/filename': tf.io.VarLenFeature(tf.string),\n",
    "      'image/format': tf.io.FixedLenFeature([],tf.string),\n",
    "      'image/encoded': tf.io.FixedLenFeature([],tf.string),\n",
    "      'image/object/bbox/center_x': tf.io.VarLenFeature(tf.float32),\n",
    "      'image/object/bbox/center_y': tf.io.VarLenFeature(tf.float32),\n",
    "      'image/object/bbox/width': tf.io.VarLenFeature(tf.float32),\n",
    "      'image/object/bbox/height': tf.io.VarLenFeature(tf.float32),\n",
    "      'image/object/class/text': tf.io.VarLenFeature(tf.string),\n",
    "      'image/object/class/label': tf.io.VarLenFeature(tf.int64),\n",
    "  }\n",
    "    # Load one example\n",
    "    parsed_features = tf.parse_single_example(proto, image_feature_description)\n",
    "    \n",
    "    # Turn your saved image string into an array\n",
    "    # parsed_features['image/encoded'] = tf.decode_raw(\n",
    "    #     parsed_features['image/encoded'], tf.uint8)\n",
    "    parsed_features['image/encoded'] = tf.io.decode_jpeg(parsed_features['image/encoded'])\n",
    "    ## modify this to return what data is needed\n",
    "    return parsed_features['image/encoded'], parsed_features[\"image/object/class/text\"]"
   ]
  },
  {
   "cell_type": "code",
   "execution_count": 11,
   "metadata": {},
   "outputs": [],
   "source": [
    "def read_tfrecords(filenames):\n",
    "    dataset = tf.data.TFRecordDataset(filenames)\n",
    "    #dataset = ds_train\n",
    "    # Maps the parser on every filepath in the array. You can set the number of parallel loaders here\n",
    "    dataset = dataset.map(_parse_function, num_parallel_calls=8)\n",
    "\n",
    "    # This dataset will go on forever\n",
    "    dataset = dataset.repeat()\n",
    "\n",
    "    # Set the number of datapoints you want to load and shuffle \n",
    "    dataset = dataset.shuffle(3)\n",
    "\n",
    "    # Set the batchsize\n",
    "    dataset = dataset.batch(8)\n",
    "\n",
    "    # Create an iterator\n",
    "    iterator = dataset.make_one_shot_iterator()\n",
    "\n",
    "    # Create your tf representation of the iterator\n",
    "    image, label = iterator.get_next()\n",
    "    # Bring your picture back in shape\n",
    "    return image, label"
   ]
  },
  {
   "cell_type": "code",
   "execution_count": null,
   "metadata": {},
   "outputs": [],
   "source": [
    "#get tf records list from gcs\n",
    "validation_filenames = list_blobs_with_prefix('waymo_validation','validation_dataset')\n",
    "images,labels = read_tfrecords(validation_filenames)"
   ]
  },
  {
   "cell_type": "markdown",
   "metadata": {},
   "source": [
    "## uplaod a local file to gcs"
   ]
  },
  {
   "cell_type": "code",
   "execution_count": 18,
   "metadata": {},
   "outputs": [],
   "source": [
    "def upload_blob(bucket_name, source_file_name, destination_blob_name):\n",
    "    \"\"\"Uploads a file to the bucket.\"\"\"\n",
    "    storage_client = storage.Client()\n",
    "    bucket = storage_client.get_bucket(bucket_name)\n",
    "    blob = bucket.blob(destination_blob_name)\n",
    "\n",
    "    blob.upload_from_filename(source_file_name)\n",
    "    print('File {} uploaded to {}.'.format(\n",
    "        source_file_name,\n",
    "        destination_blob_name))"
   ]
  },
  {
   "cell_type": "code",
   "execution_count": 20,
   "metadata": {},
   "outputs": [
    {
     "name": "stdout",
     "output_type": "stream",
     "text": [
      "File xyz.png uploaded to abc/xsx.\n"
     ]
    }
   ],
   "source": [
    "upload_blob('waymo_validation','xyz.png','abc/xsx')"
   ]
  },
  {
   "cell_type": "markdown",
   "metadata": {},
   "source": [
    "## uplaod a local variable or data in variable to gcs"
   ]
  },
  {
   "cell_type": "code",
   "execution_count": 24,
   "metadata": {},
   "outputs": [],
   "source": [
    "def upload_blob2(bucket_name, source_file_name, destination_blob_name):\n",
    "    \"\"\"Uploads a file to the bucket.\"\"\"\n",
    "    storage_client = storage.Client()\n",
    "    bucket = storage_client.get_bucket(bucket_name)\n",
    "    blob = bucket.blob(destination_blob_name)\n",
    "\n",
    "    blob.upload_from_string(source_file_name,content_type='image/png')\n",
    "    #blob.upload_blob\n",
    "    print('File {} uploaded to {}.'.format(\n",
    "        source_file_name,\n",
    "        destination_blob_name))"
   ]
  }
 ],
 "metadata": {
  "kernelspec": {
   "display_name": "Python 3",
   "language": "python",
   "name": "python3"
  },
  "language_info": {
   "codemirror_mode": {
    "name": "ipython",
    "version": 3
   },
   "file_extension": ".py",
   "mimetype": "text/x-python",
   "name": "python",
   "nbconvert_exporter": "python",
   "pygments_lexer": "ipython3",
   "version": "3.5.3"
  }
 },
 "nbformat": 4,
 "nbformat_minor": 4
}
