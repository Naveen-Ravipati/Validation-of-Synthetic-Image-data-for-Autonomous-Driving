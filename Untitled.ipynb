{
 "cells": [
  {
   "cell_type": "code",
   "execution_count": null,
   "metadata": {},
   "outputs": [],
   "source": [
    "from google.cloud import storage\n",
    "import os\n",
    "import tensorflow as tf\n",
    "import math\n",
    "import numpy as np\n",
    "import itertools\n",
    "from PIL import Image\n",
    "from tensorflow import image\n",
    "\n",
    "tf.enable_eager_execution()\n",
    "from yolo3.model import preprocess_true_boxes\n",
    "## if it is private gcs use storage.Client().fromservice account insted of storage.Client()"
   ]
  },
  {
   "cell_type": "code",
   "execution_count": null,
   "metadata": {},
   "outputs": [],
   "source": [
    "def list_blobs_with_prefix(bucket_name, prefix, delimiter=None):\n",
    "    \n",
    "    storage_client = storage.Client()\n",
    "    bucket = storage_client.get_bucket(bucket_name)\n",
    "\n",
    "    blobs = bucket.list_blobs(prefix=prefix, delimiter=delimiter)\n",
    "    file_list = []\n",
    "    for blob in blobs:\n",
    "        file_list.append('gs://'+bucket_name+'/'+blob.name)\n",
    "\n",
    "    return file_list\n"
   ]
  },
  {
   "cell_type": "code",
   "execution_count": null,
   "metadata": {},
   "outputs": [],
   "source": [
    "\n",
    "def get_random_data(image, input_shape, x_min, y_min, x_max, y_max,label ,random=False, max_boxes=20, jitter=.3, hue=.1, sat=1.5, val=1.5, proc_img=True):\n",
    "    '''random preprocessing for real-time data augmentation'''\n",
    "    #line = annotation_line.split()\n",
    "    image = Image.fromarray(image.numpy())\n",
    "    iw, ih = (1920,1280)\n",
    "    h, w = input_shape\n",
    "    box = np.array([np.array(list(map(int,box.split(',')))) for box in line[1:]])\n",
    "    box = []\n",
    "    for x1,y1,x2,y2,l in zip(x_min, y_min, x_max, y_max, label):\n",
    "        box.append(np.array([x1, y1, x2, y2, l]))\n",
    "        \n",
    "    box = np.array(box)\n",
    "    \n",
    "    \n",
    "    if not random:\n",
    "        # resize image\n",
    "        scale = min(w/iw, h/ih)\n",
    "        nw = int(iw*scale)\n",
    "        nh = int(ih*scale)\n",
    "        dx = (w-nw)//2\n",
    "        dy = (h-nh)//2\n",
    "        #image_data=0\n",
    "        if proc_img:\n",
    "        #tf.image.resize_images(x, size=[nw,nh], method=image.ResizeMethod.BICUBIC)\n",
    "             image = image.resize((nw,nh), Image.BICUBIC)\n",
    "             new_image = Image.new('RGB', (w,h), (128,128,128))\n",
    "             new_image.paste(image, (dx, dy))\n",
    "             image_data = np.array(new_image)/255.\n",
    "\n",
    "        # correct boxes\n",
    "        box_data = np.zeros((max_boxes,5))\n",
    "        if len(box)>0:\n",
    "            np.random.shuffle(box)\n",
    "            if len(box)>max_boxes: box = box[:max_boxes]\n",
    "            box[:, [0,2]] = box[:, [0,2]]*scale + dx\n",
    "            box[:, [1,3]] = box[:, [1,3]]*scale + dy\n",
    "            box_data[:len(box)] = box\n",
    "\n",
    "        return image_data, box_data\n",
    "\n",
    "    # resize image\n",
    "    new_ar = w / h * rand(1 - jitter, 1 + jitter) / rand(1 - jitter, 1 + jitter)\n",
    "    scale = rand(.25, 2)\n",
    "    if new_ar < 1:\n",
    "        nh = int(scale * h)\n",
    "        nw = int(nh * new_ar)\n",
    "    else:\n",
    "        nw = int(scale * w)\n",
    "        nh = int(nw / new_ar)\n",
    "    image = image.resize((nw, nh), Image.BICUBIC)\n",
    "    #image = 0\n",
    "    # place image\n",
    "    dx = int(rand(0, w - nw))\n",
    "    dy = int(rand(0, h - nh))\n",
    "    new_image = Image.new('RGB', (w, h), (128, 128, 128))\n",
    "    new_image.paste(image, (dx, dy))\n",
    "    image = new_image\n",
    "\n",
    "    flip = rand()<.5\n",
    "    if flip: image = image.transpose(Image.FLIP_LEFT_RIGHT)\n",
    "\n",
    "    # distort image\n",
    "    hue = rand(-hue, hue)\n",
    "    sat = rand(1, sat) if rand()<.5 else 1/rand(1, sat)\n",
    "    val = rand(1, val) if rand()<.5 else 1/rand(1, val)\n",
    "    x = rgb_to_hsv(np.array(image)/255.)\n",
    "    x[..., 0] += hue\n",
    "    x[..., 0][x[..., 0]>1] -= 1\n",
    "    x[..., 0][x[..., 0]<0] += 1\n",
    "    x[..., 1] *= sat\n",
    "    x[..., 2] *= val\n",
    "    x[x>1] = 1\n",
    "    x[x<0] = 0\n",
    "    image_data = hsv_to_rgb(x) # numpy array, 0 to 1\n",
    "\n",
    "    # correct boxes\n",
    "    box_data = np.zeros((max_boxes,5))\n",
    "    if len(box)>0:\n",
    "        np.random.shuffle(box)\n",
    "        box[:, [0,2]] = box[:, [0,2]]*nw/iw + dx\n",
    "        box[:, [1,3]] = box[:, [1,3]]*nh/ih + dy\n",
    "        if flip: box[:, [0,2]] = w - box[:, [2,0]]\n",
    "        box[:, 0:2][box[:, 0:2]<0] = 0\n",
    "        box[:, 2][box[:, 2]>w] = w\n",
    "        box[:, 3][box[:, 3]>h] = h\n",
    "        box_w = box[:, 2] - box[:, 0]\n",
    "        box_h = box[:, 3] - box[:, 1]\n",
    "        box = box[np.logical_and(box_w>1, box_h>1)] # discard invalid box\n",
    "        if len(box)>max_boxes: box = box[:max_boxes]\n",
    "        box_data[:len(box)] = box\n",
    "    #image_data = \n",
    "    return image_data, box_data"
   ]
  },
  {
   "cell_type": "code",
   "execution_count": null,
   "metadata": {},
   "outputs": [],
   "source": [
    "image_feature_description={\n",
    "          'image/filename': tf.io.VarLenFeature(tf.string),\n",
    "      'image/format': tf.io.FixedLenFeature([],tf.string),\n",
    "      'image/encoded': tf.io.FixedLenFeature([],tf.string),\n",
    "      'image/object/bbox/center_x': tf.io.VarLenFeature(tf.float32),\n",
    "      'image/object/bbox/center_y': tf.io.VarLenFeature(tf.float32),\n",
    "      'image/object/bbox/width': tf.io.VarLenFeature(tf.float32),\n",
    "      'image/object/bbox/height': tf.io.VarLenFeature(tf.float32),\n",
    "      'image/object/class/text': tf.io.VarLenFeature(tf.string),\n",
    "      'image/object/class/label': tf.io.VarLenFeature(tf.int64),\n",
    "  }\n",
    "    # Load one example\n",
    "#parsed_features = tf.parse_single_example(proto, image_feature_description)"
   ]
  },
  {
   "cell_type": "code",
   "execution_count": null,
   "metadata": {},
   "outputs": [],
   "source": [
    "validation_filenames = list_blobs_with_prefix('waymo_validation','validation_dataset/tf_records')\n",
    "dataset = tf.data.TFRecordDataset(validation_filenames[0], compression_type='')\n",
    "for data in dataset:\n",
    "    parsed_features = tf.parse_single_example(data, image_feature_description)\n",
    "    x_min = parsed_features['image/object/bbox/center_x'].values.numpy() - 0.5*parsed_features['image/object/bbox/width'].values.numpy()\n",
    "    y_min = parsed_features['image/object/bbox/center_y'].values.numpy() - 0.5*parsed_features['image/object/bbox/height'].values.numpy()\n",
    "    x_max = parsed_features['image/object/bbox/center_x'].values.numpy() + 0.5*parsed_features['image/object/bbox/width'].values.numpy()\n",
    "    y_max = parsed_features['image/object/bbox/center_y'].values.numpy() + 0.5*parsed_features['image/object/bbox/height'].values.numpy()\n",
    "    labels = parsed_features['image/object/class/label']\n",
    "    \n",
    "    "
   ]
  },
  {
   "cell_type": "code",
   "execution_count": 1,
   "metadata": {},
   "outputs": [],
   "source": [
    "import pandas as pd\n"
   ]
  },
  {
   "cell_type": "code",
   "execution_count": 3,
   "metadata": {},
   "outputs": [
    {
     "name": "stdout",
     "output_type": "stream",
     "text": [
      "coco_annotation.py\tkmeans.py\t\t    Untitled.ipynb\n",
      "convert_annotations.py\tLICENSE\t\t\t    validation_to_gcs.ipynb\n",
      "convert.py\t\tmodel_data\t\t    voc_annotation.py\n",
      "darknet53.cfg\t\tREADME.md\t\t    xyz.png\n",
      "data\t\t\ttrain_bottleneck.py\t    yolo3\n",
      "docs\t\t\ttraining_data\t\t    yolo_anchors_6.txt\n",
      "font\t\t\ttraining_data_to_gcs.ipynb  yolo.py\n",
      "gcs_reader.ipynb\ttrain.py\t\t    yolov3.cfg\n",
      "inference.py\t\ttrain_waymo.py\t\t    yolov3-tiny.cfg\n"
     ]
    }
   ],
   "source": [
    "!ls"
   ]
  },
  {
   "cell_type": "code",
   "execution_count": 16,
   "metadata": {},
   "outputs": [
    {
     "name": "stdout",
     "output_type": "stream",
     "text": [
      "9526\n"
     ]
    }
   ],
   "source": [
    "fname='./training_data/csv_files/training_annotation.csv'\n",
    "with open(fname) as f:\n",
    "        for i, l in enumerate(f):\n",
    "            pass\n",
    "print(i)"
   ]
  },
  {
   "cell_type": "code",
   "execution_count": null,
   "metadata": {},
   "outputs": [],
   "source": [
    "data.count()"
   ]
  },
  {
   "cell_type": "code",
   "execution_count": null,
   "metadata": {},
   "outputs": [],
   "source": []
  }
 ],
 "metadata": {
  "kernelspec": {
   "display_name": "Python 3",
   "language": "python",
   "name": "python3"
  },
  "language_info": {
   "codemirror_mode": {
    "name": "ipython",
    "version": 3
   },
   "file_extension": ".py",
   "mimetype": "text/x-python",
   "name": "python",
   "nbconvert_exporter": "python",
   "pygments_lexer": "ipython3",
   "version": "3.5.3"
  }
 },
 "nbformat": 4,
 "nbformat_minor": 4
}
